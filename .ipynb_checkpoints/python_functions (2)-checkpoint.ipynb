{
 "cells": [
  {
   "cell_type": "markdown",
   "metadata": {},
   "source": [
    "Define a function ```max_number()``` that takes two numbers as arguments and returns the largest of them. Use the if-then-else construct available in Python."
   ]
  },
  {
   "cell_type": "code",
   "execution_count": 1,
   "metadata": {},
   "outputs": [
    {
     "data": {
      "text/plain": [
       "9"
      ]
     },
     "execution_count": 1,
     "metadata": {},
     "output_type": "execute_result"
    }
   ],
   "source": [
    "#must have more than one in in the parameter (place holder)\n",
    "def max_number(num1,num2):\n",
    "    if num1 > num2:\n",
    "        return num1\n",
    "    #this says if num1 is greater return it\n",
    "    else:\n",
    "        return num2\n",
    "    #this says if num1 isn't greater num2 is needed\n",
    "    #the functions will run its course until it reaches its endpoint. look at next question\n",
    "\n",
    "max_number(7, 9)"
   ]
  },
  {
   "cell_type": "markdown",
   "metadata": {},
   "source": [
    "Define a function ```max_of_three()``` that takes three numbers as arguments and returns the largest of them."
   ]
  },
  {
   "cell_type": "code",
   "execution_count": 6,
   "metadata": {},
   "outputs": [
    {
     "data": {
      "text/plain": [
       "57"
      ]
     },
     "execution_count": 6,
     "metadata": {},
     "output_type": "execute_result"
    }
   ],
   "source": [
    "def max_of_three(num1,num2,num3):\n",
    "    if num1 > num2 and num1 > num3:\n",
    "        return num1\n",
    "            #if this is true the funtion will stop, therefore no more need to use num1\n",
    "            #conditional logic must be on the same line as its function\n",
    "    elif num2 > num3:\n",
    "        return num2\n",
    "            #this is the same as above. if num2 is greater we're done\n",
    "    else: \n",
    "        return num3\n",
    "        \n",
    "max_of_three(11,57,32)"
   ]
  },
  {
   "cell_type": "markdown",
   "metadata": {},
   "source": [
    "Define a function ```is_vowel()``` that takes a character (i.e. a string of length 1). Return true if it is a vowel, false otherwise."
   ]
  },
  {
   "cell_type": "code",
   "execution_count": 43,
   "metadata": {},
   "outputs": [
    {
     "data": {
      "text/plain": [
       "True"
      ]
     },
     "execution_count": 43,
     "metadata": {},
     "output_type": "execute_result"
    }
   ],
   "source": [
    "def is_vowel(letter):\n",
    "    vowels = (['a','e','i','o','u'])\n",
    "    if letter in vowels:\n",
    "        return True\n",
    "    else:\n",
    "        return False\n",
    "        \n",
    "is_vowel('a')"
   ]
  },
  {
   "cell_type": "markdown",
   "metadata": {},
   "source": [
    "Define a function ```translate()``` that will translate text into \"rövarspråket\". That is, double every consonant and place an occurrence of \"o\" in between. For example, ```translate(\"this is fun\")``` should return the string ```\"tothohisos isos fofunon\"```."
   ]
  },
  {
   "cell_type": "code",
   "execution_count": 17,
   "metadata": {},
   "outputs": [
    {
     "data": {
      "text/plain": [
       "'tothohisos isos anonacocododa'"
      ]
     },
     "execution_count": 17,
     "metadata": {},
     "output_type": "execute_result"
    }
   ],
   "source": [
    "def translate(text):\n",
    "    result = ''\n",
    "        #for loop on a string looks at every character\n",
    "    for char in text:\n",
    "        if char in 'bcdfghjklmnpqrstvwxz':\n",
    "            result = result + char + 'o' + char\n",
    "        #the results here tell it that if it sees a consonant add an o\n",
    "        else:\n",
    "            result = result + char\n",
    "        #this says if the results does not have the char just kep the results plus the character\n",
    "            #this is to ensure the vowel is still followed by a consonant\n",
    "    return result\n",
    "translate(\"this is anacoda\")"
   ]
  },
  {
   "cell_type": "markdown",
   "metadata": {},
   "source": [
    "Define a function ```sum()``` and a function ```multiply()```. Functions should sum and multiply (respectively) all numbers in an list of numbers. For example, ```sum([1,2,3,4])``` should return ```10```, and ```multiply([1,2,3,4])``` should return ```24```."
   ]
  },
  {
   "cell_type": "code",
   "execution_count": 41,
   "metadata": {},
   "outputs": [
    {
     "name": "stdout",
     "output_type": "stream",
     "text": [
      "10\n",
      "24\n"
     ]
    }
   ],
   "source": [
    "#attemnpting to define two functions\n",
    "#stackoverflow interactivepython and w3\n",
    "def sum(numlist):\n",
    "    thesum = 0\n",
    "    for i in numlist:\n",
    "        thesum = thesum + i\n",
    "    return thesum\n",
    "\n",
    "print(sum([1,2,3,4]))\n",
    "\n",
    "def multiply(numlist):\n",
    "    theproduct = 1\n",
    "    for i in numlist:\n",
    "        theproduct = theproduct * i\n",
    "    return theproduct\n",
    "\n",
    "print(multiply([1,2,3,4]))"
   ]
  },
  {
   "cell_type": "markdown",
   "metadata": {},
   "source": [
    "Define a function ```reverse()``` that computes the reversal of a string. For example, ```reverse(\"jag testar\")``` should return the string ```\"ratset gaj\"```."
   ]
  },
  {
   "cell_type": "code",
   "execution_count": 57,
   "metadata": {},
   "outputs": [
    {
     "data": {
      "text/plain": [
       "'em sti olleh'"
      ]
     },
     "execution_count": 57,
     "metadata": {},
     "output_type": "execute_result"
    }
   ],
   "source": [
    "#this is called python slice method\n",
    "def reverse(text):\n",
    "    results = text[::-1]\n",
    "    return results\n",
    "reverse('hello its me')"
   ]
  },
  {
   "cell_type": "markdown",
   "metadata": {},
   "source": [
    "Define a function ```find_longest_word()``` that takes a list of words and returns the length of the longest one."
   ]
  },
  {
   "cell_type": "code",
   "execution_count": 86,
   "metadata": {},
   "outputs": [
    {
     "data": {
      "text/plain": [
       "9"
      ]
     },
     "execution_count": 86,
     "metadata": {},
     "output_type": "execute_result"
    }
   ],
   "source": [
    "#must have more than one parameter\n",
    "#mady went from list to result to for loop \n",
    "#for loop compares srings and lopops\n",
    "#len = length --> tells python to count the characters\n",
    "\n",
    "def find_longest_word(word_list):\n",
    "    result = \"\"\n",
    "    for item in word_list:\n",
    "        if len(item) > len(result):\n",
    "            result = item\n",
    "    return len(result)\n",
    "#when you defined your function it took one parameter, cannot pass in two\n",
    "#therefore you must have one parameter\n",
    "#one list is one parameter -- must put in []\n",
    "#otherwise it's two separate variables that were never defined\n",
    "#could have them wrapped as strings, still would need to be one argument\n",
    "#[] = list \"\" = string this is a list of two strings\n",
    "find_longest_word(['yesterday','cast'])"
   ]
  },
  {
   "cell_type": "markdown",
   "metadata": {},
   "source": [
    "Define a function ```filter_long_words()``` that takes a list of words and an integer ```i``` and returns a list of words that are longer than ```i```."
   ]
  },
  {
   "cell_type": "code",
   "execution_count": 87,
   "metadata": {},
   "outputs": [
    {
     "data": {
      "text/plain": [
       "['spongebob']"
      ]
     },
     "execution_count": 87,
     "metadata": {},
     "output_type": "execute_result"
    }
   ],
   "source": [
    "def filter_long_words(word_list,i):\n",
    "    new_word_list = []\n",
    "    \n",
    "    for word in word_list:\n",
    "        if len(word) > i:\n",
    "            new_word_list.append(word)\n",
    "            \n",
    "    return new_word_list   \n",
    "\n",
    "filter_long_words(['ham', 'fun', 'spongebob'],7)\n",
    "#the last line is where you call it\n",
    "#parameters and placeholder values must be exactly the same\n",
    "#only want to return a list with words longer than 7\n",
    "#return is never return = \n",
    "#must return the result\n"
   ]
  },
  {
   "cell_type": "markdown",
   "metadata": {},
   "source": [
    "Write a function ```char_freq()``` that takes a string and builds a frequency listing of the characters contained in it. Represent the frequency listing as a Python dictionary. Try it with something like ```charFreq(\"abbabcbdbabdbdbabababcbcbab\")```."
   ]
  },
  {
   "cell_type": "code",
   "execution_count": 93,
   "metadata": {},
   "outputs": [
    {
     "ename": "SyntaxError",
     "evalue": "can't assign to function call (<ipython-input-93-e9f480eb19e9>, line 7)",
     "output_type": "error",
     "traceback": [
      "\u001b[0;36m  File \u001b[0;32m\"<ipython-input-93-e9f480eb19e9>\"\u001b[0;36m, line \u001b[0;32m7\u001b[0m\n\u001b[0;31m    freq_list(letter) = freq_list(letter) + 1\u001b[0m\n\u001b[0m    ^\u001b[0m\n\u001b[0;31mSyntaxError\u001b[0m\u001b[0;31m:\u001b[0m can't assign to function call\n"
     ]
    }
   ],
   "source": [
    "def char_freq(char_string):\n",
    "    \n",
    "    freq_list = {}\n",
    "        \n",
    "    for letter in char_sting:\n",
    "        if letter in freq_list:\n",
    "            freq_list(letter) = freq_list(letter) + 1\n",
    "        else:\n",
    "            freq_list(letter) = 1\n",
    "        return freq_list\n",
    "    \n",
    "char_freq(\"abbabcbdbabdbdbabababcbcbab\")"
   ]
  },
  {
   "cell_type": "code",
   "execution_count": null,
   "metadata": {},
   "outputs": [],
   "source": []
  }
 ],
 "metadata": {
  "kernelspec": {
   "display_name": "Python 3",
   "language": "python",
   "name": "python3"
  },
  "language_info": {
   "codemirror_mode": {
    "name": "ipython",
    "version": 3
   },
   "file_extension": ".py",
   "mimetype": "text/x-python",
   "name": "python",
   "nbconvert_exporter": "python",
   "pygments_lexer": "ipython3",
   "version": "3.7.2"
  }
 },
 "nbformat": 4,
 "nbformat_minor": 2
}
